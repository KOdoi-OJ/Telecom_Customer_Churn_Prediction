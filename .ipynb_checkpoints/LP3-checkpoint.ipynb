{
 "cells": [
  {
   "cell_type": "code",
   "execution_count": null,
   "metadata": {},
   "outputs": [],
   "source": [
    "# Importing and loading relevant libraries and packages\n",
    "import warnings\n",
    "from itertools import *\n",
    "\n",
    "import plotly.express as px\n",
    "from plotly.subplots import *\n",
    "import plotly.graph_objects as go\n",
    "import seaborn as sns\n",
    "\n",
    "import numpy as np\n",
    "import pandas as pd\n",
    "\n",
    "from sklearn import *\n",
    "from sklearn.compose import ColumnTransformer\n",
    "from sklearn.ensemble import RandomForestRegressor\n",
    "from sklearn.linear_model import LinearRegression\n",
    "from sklearn.metrics import mean_squared_error\n",
    "from sklearn.metrics import mean_squared_log_error\n",
    "from sklearn.model_selection import cross_val_score\n",
    "from sklearn.model_selection import train_test_split\n",
    "from sklearn.pipeline import make_pipeline\n",
    "from sklearn.pipeline import Pipeline\n",
    "from sklearn.preprocessing import MinMaxScaler\n",
    "from sklearn.preprocessing import OneHotEncoder\n",
    "from sklearn.preprocessing import StandardScaler\n",
    "from sklearn.tree import DecisionTreeRegressor\n",
    "\n",
    "import xgboost as xgb\n",
    "from xgboost import XGBRegressor\n",
    "\n",
    "import matplotlib.pyplot as plt\n",
    "%matplotlib inline\n",
    "\n",
    "\n",
    "# Hiding the warnings\n",
    "warnings.filterwarnings('ignore')\n",
    "\n",
    "print(\"Loading complete.\", \"Warnings hidden.\")"
   ]
  },
  {
   "cell_type": "code",
   "execution_count": null,
   "metadata": {},
   "outputs": [],
   "source": [
    "# Removing the restriction on columns to display\n",
    "pd.set_option('display.max_columns', None)"
   ]
  },
  {
   "cell_type": "code",
   "execution_count": null,
   "metadata": {},
   "outputs": [],
   "source": [
    "# Loading the data\n",
    "dataset = pd.read_csv(\"Telco-Customer-Churn.csv\")\n",
    "dataset"
   ]
  },
  {
   "cell_type": "code",
   "execution_count": null,
   "metadata": {},
   "outputs": [],
   "source": [
    "dataset.info()"
   ]
  },
  {
   "cell_type": "code",
   "execution_count": null,
   "metadata": {},
   "outputs": [],
   "source": [
    "dataset[dataset[\"tenure\"] == 0]"
   ]
  },
  {
   "cell_type": "code",
   "execution_count": null,
   "metadata": {},
   "outputs": [],
   "source": [
    "dataset[\"MonthlyCharges\"] = dataset[\"MonthlyCharges\"].apply(float)\n",
    "dataset[\"TotalCharges\"] = dataset[\"TotalCharges\"].replace(\" \", np.nan)\n",
    "dataset[\"TotalCharges\"] = dataset[\"TotalCharges\"].apply(float)\n",
    "dataset.dropna(inplace = True)\n",
    "dataset.info()"
   ]
  },
  {
   "cell_type": "code",
   "execution_count": null,
   "metadata": {},
   "outputs": [],
   "source": [
    "dataset.drop(columns = [\"customerID\"], inplace = True)"
   ]
  },
  {
   "cell_type": "code",
   "execution_count": null,
   "metadata": {},
   "outputs": [],
   "source": [
    "dataset.nunique()"
   ]
  },
  {
   "cell_type": "code",
   "execution_count": null,
   "metadata": {
    "scrolled": false
   },
   "outputs": [],
   "source": [
    "#for column in dataset.columns:\n",
    "#    if dataset[column].dtype == \"O\":\n",
    "#        data = pd.DataFrame(dataset[column].value_counts()).reset_index().rename(columns = {\"index\":\"Category\"})\n",
    "#        data\n",
    "#        fig = px.bar(data, x = data.columns[0], y = data.columns[1], text_auto = True,\n",
    "#                     title = f\"{column} Distribution\")\n",
    "#        fig.show()"
   ]
  },
  {
   "cell_type": "code",
   "execution_count": null,
   "metadata": {
    "scrolled": false
   },
   "outputs": [],
   "source": [
    "# Looking at the descriptive statistics of the columns with categorical values\n",
    "categoricals = [column for column in dataset.columns if (dataset[column].dtype == \"O\")]\n",
    "\n",
    "for column in dataset[categoricals].columns:\n",
    "    fig = px.histogram(dataset, x= dataset[column], title = f\"Distribution of values in the {column} column\")\n",
    "    fig.show()\n",
    "    fig = px.histogram(dataset, x= dataset[column], color = \"Churn\", barnorm = \"percent\", text_auto = \".2f\",\n",
    "                       title = f\"Churn proportions of users in {column}\")\n",
    "    fig.show()"
   ]
  },
  {
   "cell_type": "code",
   "execution_count": null,
   "metadata": {
    "scrolled": false
   },
   "outputs": [],
   "source": [
    "# Visualizing the distribution of the variables and their churn levels\n",
    "#for column in dataset.columns:\n",
    "#    fig = px.histogram(dataset, x= dataset[column], title = f\"Distribution of values in the {column} column\")\n",
    "#    fig.show()"
   ]
  },
  {
   "cell_type": "code",
   "execution_count": null,
   "metadata": {
    "scrolled": false
   },
   "outputs": [],
   "source": [
    "# Visualizing the distribution of the variables and their churn levels\n",
    "for column in dataset.columns:\n",
    "    fig = px.histogram(dataset, x= dataset[column], facet_col = \"Churn\", \n",
    "                       title = f\"Distribution of values in the {column} column\")\n",
    "    fig.show()"
   ]
  },
  {
   "cell_type": "code",
   "execution_count": null,
   "metadata": {
    "scrolled": false
   },
   "outputs": [],
   "source": [
    "# Visualizing the distribution of the variables and their churn levels\n",
    "for column in dataset.columns:\n",
    "    fig = px.histogram(dataset, x= dataset[column], color = \"Churn\", barnorm = \"percent\", text_auto = \".2f\",\n",
    "                       title = f\"Distribution of values in the {column} column\")\n",
    "    fig.show()"
   ]
  },
  {
   "cell_type": "code",
   "execution_count": null,
   "metadata": {
    "scrolled": true
   },
   "outputs": [],
   "source": [
    "# Looking at the descriptive statistics of the columns with numeric values\n",
    "numerics = [column for column in dataset.columns if (dataset[column].dtype != \"O\") & (len(dataset[column].unique()) > 2)]\n",
    "dataset[numerics].describe()"
   ]
  },
  {
   "cell_type": "code",
   "execution_count": null,
   "metadata": {
    "scrolled": false
   },
   "outputs": [],
   "source": [
    "for column in dataset[numerics].columns:\n",
    "    if len(dataset[column].unique()) > 2:\n",
    "        fig = px.box(dataset[numerics], y = column, title = f\"Boxplot of values in the {column} column\")\n",
    "        fig.show()"
   ]
  },
  {
   "cell_type": "code",
   "execution_count": null,
   "metadata": {
    "scrolled": false
   },
   "outputs": [],
   "source": [
    "# Encoding columns with only two unique variables\n",
    "label_encoder = preprocessing.LabelEncoder()\n",
    "dataset[\"Churn\"] = label_encoder.fit_transform(dataset.Churn)\n",
    "dataset[\"gender\"] = label_encoder.fit_transform(dataset.gender)\n",
    "dataset[\"SeniorCitizen\"] = label_encoder.fit_transform(dataset.SeniorCitizen)\n",
    "dataset[\"Partner\"] = label_encoder.fit_transform(dataset.Partner)\n",
    "dataset[\"Dependents\"] = label_encoder.fit_transform(dataset.Dependents)\n",
    "dataset[\"PhoneService\"] = label_encoder.fit_transform(dataset.PhoneService)\n",
    "dataset[\"PaperlessBilling\"] = label_encoder.fit_transform(dataset.PaperlessBilling)\n",
    "dataset"
   ]
  },
  {
   "cell_type": "code",
   "execution_count": null,
   "metadata": {
    "scrolled": false
   },
   "outputs": [],
   "source": [
    "# Looking at the correlation between the variables in the merged dataframe\n",
    "correlation = pd.DataFrame(dataset.corr())\n",
    "fig = px.imshow(correlation, text_auto = \".3f\", aspect = \"auto\", labels = {\"color\":\"Correlation Coefficient\"})\n",
    "fig.update_xaxes(side=\"top\")\n",
    "fig.show()"
   ]
  },
  {
   "cell_type": "code",
   "execution_count": null,
   "metadata": {},
   "outputs": [],
   "source": []
  }
 ],
 "metadata": {
  "kernelspec": {
   "display_name": "Python 3 (ipykernel)",
   "language": "python",
   "name": "python3"
  },
  "language_info": {
   "codemirror_mode": {
    "name": "ipython",
    "version": 3
   },
   "file_extension": ".py",
   "mimetype": "text/x-python",
   "name": "python",
   "nbconvert_exporter": "python",
   "pygments_lexer": "ipython3",
   "version": "3.9.13"
  },
  "vscode": {
   "interpreter": {
    "hash": "1a4ce4bc5f820c6c47c7565419227e532b3448deb4a621e77e51010fbe64b648"
   }
  }
 },
 "nbformat": 4,
 "nbformat_minor": 2
}
